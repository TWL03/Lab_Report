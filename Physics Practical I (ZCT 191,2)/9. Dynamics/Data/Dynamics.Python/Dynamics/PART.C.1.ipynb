{
 "cells": [
  {
   "cell_type": "code",
   "execution_count": 1,
   "metadata": {},
   "outputs": [
    {
     "name": "stdout",
     "output_type": "stream",
     "text": [
      "Velocity of big glider before collision (v1): 0.4651 m/s\n",
      "Velocity of small glider after collision (v2): 0.3378 m/s\n",
      "Velocity of big glider after collision (v3): 0.1828 m/s\n",
      "Initial momentum (pi): 0.1349 kgm/s\n",
      "Final momentum (pf): 0.1172 kgm/s\n",
      "Percentage difference in momentum: 14.03%\n",
      "Initial kinetic energy (Ki): 0.0314 J\n",
      "Final kinetic energy (Kf): 0.0157 J\n",
      "Percentage difference in kinetic energy: 66.64%\n"
     ]
    }
   ],
   "source": [
    "# Given data\n",
    "l = 0.10  # length of the card in meters\n",
    "mass_big = 0.290  # mass of big glider in kg\n",
    "mass_small = 0.190  # mass of small glider in kg\n",
    "\n",
    "# Before the collision\n",
    "time_v1 = 0.215  # time for big glider before collision in seconds\n",
    "velocity_v1 = l / time_v1  # velocity of big glider before collision\n",
    "\n",
    "# After the collision\n",
    "time_v2 = 0.296  # time for small glider after collision in seconds\n",
    "velocity_v2 = l / time_v2  # velocity of small glider after collision\n",
    "\n",
    "time_v3 = 0.547  # time for big glider after collision in seconds\n",
    "velocity_v3 = l / time_v3  # velocity of big glider after collision\n",
    "\n",
    "# Calculate momentum\n",
    "initial_momentum = mass_big * velocity_v1\n",
    "final_momentum = (mass_small * velocity_v2) + (mass_big * velocity_v3)\n",
    "\n",
    "# Calculate percentage difference in momentum\n",
    "percentage_difference_momentum = abs(initial_momentum - final_momentum) / ((initial_momentum + final_momentum) / 2) * 100\n",
    "\n",
    "# Calculate kinetic energy\n",
    "initial_kinetic_energy = 0.5 * mass_big * (velocity_v1 ** 2)\n",
    "final_kinetic_energy = 0.5 * mass_small * (velocity_v2 ** 2) + 0.5 * mass_big * (velocity_v3 ** 2)\n",
    "\n",
    "# Calculate percentage difference in kinetic energy\n",
    "percentage_difference_kinetic_energy = abs(initial_kinetic_energy - final_kinetic_energy) / ((initial_kinetic_energy + final_kinetic_energy) / 2) * 100\n",
    "\n",
    "# Print the results\n",
    "print(f\"Velocity of big glider before collision (v1): {velocity_v1:.4f} m/s\")\n",
    "print(f\"Velocity of small glider after collision (v2): {velocity_v2:.4f} m/s\")\n",
    "print(f\"Velocity of big glider after collision (v3): {velocity_v3:.4f} m/s\")\n",
    "print(f\"Initial momentum (pi): {initial_momentum:.4f} kgm/s\")\n",
    "print(f\"Final momentum (pf): {final_momentum:.4f} kgm/s\")\n",
    "print(f\"Percentage difference in momentum: {percentage_difference_momentum:.2f}%\")\n",
    "print(f\"Initial kinetic energy (Ki): {initial_kinetic_energy:.4f} J\")\n",
    "print(f\"Final kinetic energy (Kf): {final_kinetic_energy:.4f} J\")\n",
    "print(f\"Percentage difference in kinetic energy: {percentage_difference_kinetic_energy:.2f}%\")\n"
   ]
  }
 ],
 "metadata": {
  "kernelspec": {
   "display_name": "Python 3",
   "language": "python",
   "name": "python3"
  },
  "language_info": {
   "codemirror_mode": {
    "name": "ipython",
    "version": 3
   },
   "file_extension": ".py",
   "mimetype": "text/x-python",
   "name": "python",
   "nbconvert_exporter": "python",
   "pygments_lexer": "ipython3",
   "version": "3.12.2"
  }
 },
 "nbformat": 4,
 "nbformat_minor": 2
}
